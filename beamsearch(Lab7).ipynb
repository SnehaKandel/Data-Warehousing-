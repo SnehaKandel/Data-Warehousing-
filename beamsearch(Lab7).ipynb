{
  "cells": [
    {
      "cell_type": "code",
      "execution_count": 1,
      "id": "77a1a233",
      "metadata": {
        "id": "77a1a233"
      },
      "outputs": [],
      "source": [
        "import numpy as np\n",
        "\n",
        "# New toy state graph: Locations and delivery route scores (higher is better)\n",
        "states = {\n",
        "    'Start': [('A', 3), ('B', 4)],\n",
        "    'A': [('C', 5), ('D', 2)],\n",
        "    'B': [('E', 6)],\n",
        "    'C': [('Goal', 8)],\n",
        "    'D': [('Goal', 4)],\n",
        "    'E': [('Goal', 7)],\n",
        "    'Goal': []\n",
        "}\n"
      ]
    },
    {
      "cell_type": "code",
      "execution_count": 2,
      "id": "a2dd56fa",
      "metadata": {
        "id": "a2dd56fa"
      },
      "outputs": [],
      "source": [
        "# Beam search function\n",
        "def beam_search(states, start, beam_width=2):\n",
        "    # Initialize the beam with the start state\n",
        "    beam = [(start, [start], 0)]  # (current_state, path_to_current_state, score)\n",
        "    iteration = 0\n",
        "\n",
        "    # Continue expanding the beam until we reach a goal or exhaust options\n",
        "    while beam:\n",
        "        iteration += 1\n",
        "        print(f\"--- Iteration {iteration} ---\")\n",
        "\n",
        "        # Step 1: Expand all nodes in the current beam\n",
        "        candidates = []\n",
        "        for state, path, score in beam:\n",
        "            if state in states:  # Check if the current state has neighbors\n",
        "                for neighbor, action_score in states[state]:\n",
        "                    # Add new candidates to the list\n",
        "                    candidates.append((neighbor, path + [neighbor], score + action_score))\n",
        "\n",
        "        # Step 2: Sort candidates by score and keep the best 'beam_width' candidates\n",
        "        candidates.sort(key=lambda x: x[2], reverse=True)  # Sort by score (3rd element)\n",
        "        beam = candidates[:beam_width]  # Keep only the top 'beam_width' candidates\n",
        "\n",
        "        # Step 3: Print the selected candidates for the current iteration\n",
        "        print(f\"Candidates after sorting by score:\")\n",
        "        for candidate in beam:\n",
        "            print(f\"State: {candidate[0]}, Path: {candidate[1]}, Score: {candidate[2]}\")\n",
        "\n",
        "        # Step 4: Check if we reached the goal state\n",
        "        for state, path, score in beam:\n",
        "            if state == 'G':  # Goal state is 'G'\n",
        "                print(f\"Goal reached with path: {path} and score: {score}\")\n",
        "                return path, score\n",
        "\n",
        "        # Optional: If we don't find the goal, we can return the current best path\n",
        "        if not candidates:\n",
        "            print(\"No more candidates to explore.\")\n",
        "            return None, None"
      ]
    },
    {
      "cell_type": "code",
      "execution_count": 3,
      "id": "4bade4e9",
      "metadata": {
        "colab": {
          "base_uri": "https://localhost:8080/"
        },
        "id": "4bade4e9",
        "outputId": "0022ce21-d9bf-4dcf-8812-e4802fb86df9"
      },
      "outputs": [
        {
          "output_type": "stream",
          "name": "stdout",
          "text": [
            "--- Iteration 1 ---\n",
            "Candidates after sorting by score:\n",
            "State: B, Path: ['Start', 'B'], Score: 4\n",
            "State: A, Path: ['Start', 'A'], Score: 3\n",
            "--- Iteration 2 ---\n",
            "Candidates after sorting by score:\n",
            "State: E, Path: ['Start', 'B', 'E'], Score: 10\n",
            "State: C, Path: ['Start', 'A', 'C'], Score: 8\n",
            "--- Iteration 3 ---\n",
            "Candidates after sorting by score:\n",
            "State: Goal, Path: ['Start', 'B', 'E', 'Goal'], Score: 17\n",
            "State: Goal, Path: ['Start', 'A', 'C', 'Goal'], Score: 16\n",
            "--- Iteration 4 ---\n",
            "Candidates after sorting by score:\n",
            "No more candidates to explore.\n"
          ]
        },
        {
          "output_type": "execute_result",
          "data": {
            "text/plain": [
              "(None, None)"
            ]
          },
          "metadata": {},
          "execution_count": 3
        }
      ],
      "source": [
        "beam_search(states, start='Start', beam_width=2)\n"
      ]
    },
    {
      "cell_type": "code",
      "execution_count": null,
      "id": "2f4f960a",
      "metadata": {
        "id": "2f4f960a"
      },
      "outputs": [],
      "source": []
    }
  ],
  "metadata": {
    "kernelspec": {
      "display_name": "Python 3 (ipykernel)",
      "language": "python",
      "name": "python3"
    },
    "language_info": {
      "codemirror_mode": {
        "name": "ipython",
        "version": 3
      },
      "file_extension": ".py",
      "mimetype": "text/x-python",
      "name": "python",
      "nbconvert_exporter": "python",
      "pygments_lexer": "ipython3",
      "version": "3.9.7"
    },
    "colab": {
      "provenance": []
    }
  },
  "nbformat": 4,
  "nbformat_minor": 5
}