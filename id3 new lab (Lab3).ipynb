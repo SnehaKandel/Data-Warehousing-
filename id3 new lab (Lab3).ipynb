{
  "cells": [
    {
      "cell_type": "code",
      "execution_count": null,
      "id": "8f7ac209",
      "metadata": {
        "id": "8f7ac209"
      },
      "outputs": [],
      "source": [
        "import pandas as pd\n",
        "from math import log2"
      ]
    },
    {
      "cell_type": "code",
      "execution_count": null,
      "id": "c80dad0a",
      "metadata": {
        "id": "c80dad0a"
      },
      "outputs": [],
      "source": [
        "def entropy(data):\n",
        "    target = data.iloc[:, -1]  # The target column is the last column\n",
        "    counts = target.value_counts()  # Count occurrences of each class\n",
        "    total = len(target)  # Total number of data points\n",
        "    ent = 0\n",
        "    for count in counts:\n",
        "        prob = count / total  # Probability of each class\n",
        "        ent += -prob * log2(prob)  # Entropy formula\n",
        "    return ent"
      ]
    },
    {
      "cell_type": "code",
      "execution_count": null,
      "id": "7cec587b",
      "metadata": {
        "id": "7cec587b"
      },
      "outputs": [],
      "source": [
        "def information_gain(data, feature):\n",
        "    total_entropy = entropy(data)  # Entropy before the split\n",
        "    values = data[feature].unique()  # Unique values of the feature\n",
        "    weighted_entropy = 0\n",
        "    for value in values:\n",
        "        subset = data[data[feature] == value]  # Subset of data for each value\n",
        "        weighted_entropy += (len(subset) / len(data)) * entropy(subset)\n",
        "    return total_entropy - weighted_entropy  # Gain = Total Entropy - Weighted Entropy"
      ]
    },
    {
      "cell_type": "code",
      "execution_count": null,
      "id": "bfc02ffd",
      "metadata": {
        "id": "bfc02ffd"
      },
      "outputs": [],
      "source": [
        "def id3(data, features):\n",
        "    # If all target values are the same, return the class\n",
        "    if len(data.iloc[:, -1].unique()) == 1:\n",
        "        return data.iloc[0, -1]\n",
        "\n",
        "    # If no features are left, return the majority class\n",
        "    if not features:\n",
        "        return data.iloc[:, -1].mode()[0]  # Most common class\n",
        "\n",
        "    # Find the feature with the highest information gain\n",
        "    gains = {feature: information_gain(data, feature) for feature in features}\n",
        "    best_feature = max(gains, key=gains.get)\n",
        "\n",
        "    # Create a tree node for the best feature\n",
        "    tree = {best_feature: {}}\n",
        "\n",
        "    # Split the dataset and recursively build the tree for each branch\n",
        "    for value in data[best_feature].unique():\n",
        "        subset = data[data[best_feature] == value]\n",
        "        remaining_features = [f for f in features if f != best_feature]\n",
        "        tree[best_feature][value] = id3(subset, remaining_features)\n",
        "\n",
        "    return tree\n"
      ]
    },
    {
      "cell_type": "code",
      "execution_count": 6,
      "id": "9e04f222",
      "metadata": {
        "colab": {
          "base_uri": "https://localhost:8080/"
        },
        "id": "9e04f222",
        "outputId": "0d28c02e-08fc-413e-ae39-77c7cb842f83"
      },
      "outputs": [
        {
          "output_type": "stream",
          "name": "stdout",
          "text": [
            "Decision Tree:\n",
            "{'Employment': {'Employed': 'Yes', 'Unemployed': 'No'}}\n"
          ]
        }
      ],
      "source": [
        "# Create a simple dataset\n",
        "data = {\n",
        "    \"CreditScore\": [\"High\", \"Low\", \"High\", \"Medium\", \"Low\", \"Low\", \"Medium\"],\n",
        "    \"Income\": [\"High\", \"High\", \"Low\", \"Medium\", \"Low\", \"Medium\", \"High\"],\n",
        "    \"Employment\": [\"Employed\", \"Unemployed\", \"Employed\", \"Employed\", \"Unemployed\", \"Employed\", \"Unemployed\"],\n",
        "    \"OwnsHome\": [\"Yes\", \"No\", \"Yes\", \"No\", \"No\", \"Yes\", \"Yes\"],\n",
        "    \"LoanApproved\": [\"Yes\", \"No\", \"Yes\", \"Yes\", \"No\", \"Yes\", \"No\"],\n",
        "}\n",
        "\n",
        "df = pd.DataFrame(data)\n",
        "\n",
        "# Assuming you already have an `id3()` function defined\n",
        "features = list(df.columns[:-1])  # All columns except the target\n",
        "decision_tree = id3(df, features)\n",
        "\n",
        "# Print the decision tree\n",
        "print(\"Decision Tree:\")\n",
        "print(decision_tree)"
      ]
    },
    {
      "cell_type": "code",
      "execution_count": null,
      "id": "b74f07af",
      "metadata": {
        "id": "b74f07af"
      },
      "outputs": [],
      "source": []
    }
  ],
  "metadata": {
    "kernelspec": {
      "display_name": "Python 3 (ipykernel)",
      "language": "python",
      "name": "python3"
    },
    "language_info": {
      "codemirror_mode": {
        "name": "ipython",
        "version": 3
      },
      "file_extension": ".py",
      "mimetype": "text/x-python",
      "name": "python",
      "nbconvert_exporter": "python",
      "pygments_lexer": "ipython3",
      "version": "3.9.7"
    },
    "colab": {
      "provenance": []
    }
  },
  "nbformat": 4,
  "nbformat_minor": 5
}