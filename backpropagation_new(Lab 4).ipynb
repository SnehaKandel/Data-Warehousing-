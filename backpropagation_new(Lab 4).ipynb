{
  "cells": [
    {
      "cell_type": "code",
      "execution_count": 1,
      "id": "f9a84e1f",
      "metadata": {
        "id": "f9a84e1f"
      },
      "outputs": [],
      "source": [
        "import numpy as np\n",
        "\n",
        "# Sigmoid activation function\n",
        "def sigmoid(x):\n",
        "    return 1 / (1 + np.exp(-x))\n",
        "\n",
        "# Derivative of sigmoid for backpropagation\n",
        "def sigmoid_derivative(x):\n",
        "    return x * (1 - x)\n",
        "\n",
        "# New input dataset (2 inputs)\n",
        "X = np.array([[0, 0], [0, 1], [1, 0], [1, 1]])\n",
        "\n",
        "# New target output (1 output)\n",
        "# Output is 1 if majority of inputs are 1 (i.e., at least one is 1)\n",
        "y = np.array([[0], [0], [0], [1]])\n"
      ]
    },
    {
      "cell_type": "code",
      "execution_count": 2,
      "id": "ed966d08",
      "metadata": {
        "colab": {
          "base_uri": "https://localhost:8080/"
        },
        "id": "ed966d08",
        "outputId": "4f82d020-8c07-4f4d-dc5c-59f8568e09e6"
      },
      "outputs": [
        {
          "output_type": "stream",
          "name": "stdout",
          "text": [
            "Initial Input to Hidden Weights:\n",
            "[[0.37454012 0.95071431 0.73199394]\n",
            " [0.59865848 0.15601864 0.15599452]]\n",
            "\n",
            "Initial Hidden to Output Weights:\n",
            "[[0.05808361]\n",
            " [0.86617615]\n",
            " [0.60111501]]\n",
            "\n",
            "Initial Hidden Layer Biases:\n",
            "[[0.70807258 0.02058449 0.96990985]]\n",
            "\n",
            "Initial output Layer Biases:\n",
            "[[0.83244264]]\n"
          ]
        }
      ],
      "source": [
        "# Initialize weights and biases randomly\n",
        "np.random.seed(42)\n",
        "input_weights = np.random.uniform(size=(2, 3))  # Weights from input to hidden layer\n",
        "hidden_weights = np.random.uniform(size=(3, 1))  # Weights from hidden to output layer\n",
        "hidden_bias = np.random.uniform(size=(1, 3))  # Bias for hidden layer\n",
        "output_bias = np.random.uniform(size=(1, 1))  # Bias for output layer\n",
        "\n",
        "# Learning rate\n",
        "lr = 0.5\n",
        "print(\"Initial Input to Hidden Weights:\")\n",
        "print(input_weights)\n",
        "print(\"\\nInitial Hidden to Output Weights:\")\n",
        "print(hidden_weights)\n",
        "print(\"\\nInitial Hidden Layer Biases:\")\n",
        "print(hidden_bias)\n",
        "print(\"\\nInitial output Layer Biases:\")\n",
        "print(output_bias)"
      ]
    },
    {
      "cell_type": "code",
      "execution_count": 3,
      "id": "cd8a5a99",
      "metadata": {
        "colab": {
          "base_uri": "https://localhost:8080/"
        },
        "id": "cd8a5a99",
        "outputId": "a4b25e3c-b8c2-4309-8991-b7e14f564df1"
      },
      "outputs": [
        {
          "output_type": "stream",
          "name": "stdout",
          "text": [
            "Final Input to Hidden Weights:\n",
            "[[-2.39081813  3.68325953  0.22489419]\n",
            " [-2.41995515  3.63088899 -0.26171546]]\n",
            "\n",
            "Final Hidden to Output Weights:\n",
            "[[-5.33233122]\n",
            " [ 8.454751  ]\n",
            " [-0.42620576]]\n",
            "\n",
            "Final Hidden Layer Biases:\n",
            "[[ 3.3000171  -5.26247393  1.14154467]]\n",
            "\n",
            "Final Output Layer Bias:\n",
            "[[-1.92475842]]\n"
          ]
        }
      ],
      "source": [
        "# Training the neural network\n",
        "for epoch in range(10000):  # Train for 10,000 epochs\n",
        "    # Forward pass\n",
        "    hidden_layer_input = np.dot(X, input_weights) + hidden_bias  # Input to hidden layer\n",
        "    hidden_layer_output = sigmoid(hidden_layer_input)  # Output from hidden layer\n",
        "    output_layer_input = np.dot(hidden_layer_output, hidden_weights) + output_bias  # Input to output layer\n",
        "    output = sigmoid(output_layer_input)  # Final output\n",
        "\n",
        "    # Calculate error\n",
        "    error = y - output\n",
        "\n",
        "    # Backpropagation\n",
        "    d_output = error * sigmoid_derivative(output)  # Gradient for output layer\n",
        "    error_hidden_layer = d_output.dot(hidden_weights.T)  # Error for hidden layer\n",
        "    d_hidden_layer = error_hidden_layer * sigmoid_derivative(hidden_layer_output)  # Gradient for hidden layer\n",
        "\n",
        "    # Update weights and biases\n",
        "    hidden_weights += hidden_layer_output.T.dot(d_output) * lr  # Update weights from hidden to output\n",
        "    output_bias += np.sum(d_output, axis=0, keepdims=True) * lr  # Update output layer bias\n",
        "    input_weights += X.T.dot(d_hidden_layer) * lr  # Update weights from input to hidden\n",
        "    hidden_bias += np.sum(d_hidden_layer, axis=0, keepdims=True) * lr  # Update hidden layer bias\n",
        "\n",
        "# Display final weights, biases, and output\n",
        "print(\"Final Input to Hidden Weights:\")\n",
        "print(input_weights)\n",
        "print(\"\\nFinal Hidden to Output Weights:\")\n",
        "print(hidden_weights)\n",
        "print(\"\\nFinal Hidden Layer Biases:\")\n",
        "print(hidden_bias)\n",
        "print(\"\\nFinal Output Layer Bias:\")\n",
        "print(output_bias)"
      ]
    },
    {
      "cell_type": "code",
      "execution_count": 5,
      "id": "c9337efa",
      "metadata": {
        "colab": {
          "base_uri": "https://localhost:8080/"
        },
        "id": "c9337efa",
        "outputId": "1943db81-1aff-485f-f8db-b72a3542185f"
      },
      "outputs": [
        {
          "output_type": "stream",
          "name": "stdout",
          "text": [
            "\n",
            "Final Output after Training:\n",
            "[[6.44229649e-04]\n",
            " [9.83713102e-03]\n",
            " [9.75272891e-03]\n",
            " [9.86382781e-01]]\n"
          ]
        }
      ],
      "source": [
        "print(\"\\nFinal Output after Training:\")\n",
        "print(output)"
      ]
    },
    {
      "cell_type": "code",
      "execution_count": 4,
      "id": "6cdbc988",
      "metadata": {
        "colab": {
          "base_uri": "https://localhost:8080/"
        },
        "id": "6cdbc988",
        "outputId": "d805e915-12f0-417d-8c2e-0bc7c986163c"
      },
      "outputs": [
        {
          "output_type": "stream",
          "name": "stdout",
          "text": [
            "Test Input: [1, 1]\n",
            "Output after training: [[0.98638356]]\n"
          ]
        }
      ],
      "source": [
        "# Test input\n",
        "test_input = np.array([1, 1])  # Input to test the network\n",
        "\n",
        "# Forward pass with updated weights and biases\n",
        "hidden_layer_input = np.dot(test_input, input_weights) + hidden_bias  # Input to hidden layer\n",
        "hidden_layer_output = sigmoid(hidden_layer_input)  # Output from hidden layer\n",
        "output_layer_input = np.dot(hidden_layer_output, hidden_weights) + output_bias  # Input to output layer\n",
        "test_output = sigmoid(output_layer_input)  # Final output\n",
        "\n",
        "# Display the output\n",
        "print(\"Test Input: [1, 1]\")\n",
        "print(\"Output after training:\", test_output)\n"
      ]
    },
    {
      "cell_type": "code",
      "execution_count": null,
      "id": "57dbf4eb",
      "metadata": {
        "id": "57dbf4eb"
      },
      "outputs": [],
      "source": []
    }
  ],
  "metadata": {
    "kernelspec": {
      "display_name": "Python 3 (ipykernel)",
      "language": "python",
      "name": "python3"
    },
    "language_info": {
      "codemirror_mode": {
        "name": "ipython",
        "version": 3
      },
      "file_extension": ".py",
      "mimetype": "text/x-python",
      "name": "python",
      "nbconvert_exporter": "python",
      "pygments_lexer": "ipython3",
      "version": "3.9.7"
    },
    "colab": {
      "provenance": []
    }
  },
  "nbformat": 4,
  "nbformat_minor": 5
}